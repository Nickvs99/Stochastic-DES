{
 "cells": [
  {
   "cell_type": "markdown",
   "metadata": {},
   "source": [
    "# Stochastic simulation assignment 2\n",
    "## Peter Voerman and Nick van Santen\n",
    "### 11749547 and ..."
   ]
  },
  {
   "cell_type": "code",
   "execution_count": 23,
   "metadata": {},
   "outputs": [],
   "source": [
    "import math\n",
    "import numpy as np\n",
    "import random\n",
    "import simpy\n",
    "import bisect"
   ]
  },
  {
   "cell_type": "code",
   "execution_count": 45,
   "metadata": {},
   "outputs": [],
   "source": [
    "\n",
    "class Server():\n",
    "\n",
    "    def __init__(self, env, n_machines):\n",
    "        self.env = env\n",
    "        self.machine = simpy.PriorityResource(env, n_machines)\n",
    "\n",
    "    def run_task(self, waiting_time):\n",
    "        yield self.env.timeout(waiting_time)\n",
    "\n",
    "    @property\n",
    "    def queue_length(self):\n",
    "        return len(self.machine.queue)\n",
    "\n",
    "\n",
    "def process_task(env, server, data, waiting_times, duration):\n",
    "    waiting_time = generate_random_markov(duration)\n",
    "    #waiting_times.append(waiting_time)\n",
    "    bisect.insort(waiting_times, waiting_time)\n",
    "    waiting_time = waiting_times[0]\n",
    "    waiting_times.pop(0)\n",
    "\n",
    "    #print(f\"{task} added to server at {env.now}. Queue length: {server.queue_length}\")\n",
    "    time_at_queue = env.now\n",
    "    with server.machine.request(priority=1) as request:\n",
    "        yield request\n",
    "\n",
    "        #print(f\"{task} is being processed at {env.now}\")\n",
    "        time_start_process = env.now\n",
    "        yield env.process(server.run_task(waiting_time))\n",
    "        #print(f\"{task} is completed at {env.now}\")\n",
    "        time_end_process = env.now\n",
    "        \n",
    "\n",
    "    data[\"wait_times\"].append(time_start_process - time_at_queue)\n",
    "    data[\"process_times\"].append(time_end_process - time_start_process)\n",
    "\n",
    "def setup(env, init, data):\n",
    "    INIT_TASKS = init[0]\n",
    "    N_MACHINES = init[1]\n",
    "\n",
    "    MARKOV_TASK_DURATION = init[2]\n",
    "    MARKOV_TASK_ARRIVAL = init[3]\n",
    "\n",
    "    server = Server(env, N_MACHINES)\n",
    "    waiting_times = []\n",
    "\n",
    "    for i in range(INIT_TASKS):\n",
    "        env.process(process_task(env, server, data, waiting_times, MARKOV_TASK_DURATION))\n",
    "\n",
    "    while True:\n",
    "        yield env.timeout(generate_random_markov(MARKOV_TASK_ARRIVAL))\n",
    "        i += 1\n",
    "        # if server.queue_length > 0:\n",
    "        #     print(server.machine.queue)\n",
    "        env.process(process_task(env, server, data, waiting_times, MARKOV_TASK_DURATION))\n",
    "\n",
    "\n",
    "def generate_random_markov(lamda):\n",
    "    \"\"\"\n",
    "    Markov CDF: y = 1 - e^(-lamda t)\n",
    "    The y value has a range of 0 to 1, which we can sample.\n",
    "    Thus we can obtain a random t value by sampling y\n",
    "\n",
    "    t = - ln(1 - y) / lamda\n",
    "    \"\"\"\n",
    "\n",
    "    r = random.random()\n",
    "    return -math.log(1 - r) / lamda\n"
   ]
  },
  {
   "cell_type": "code",
   "execution_count": 36,
   "metadata": {},
   "outputs": [],
   "source": [
    "def run(init):\n",
    "    data = {\n",
    "    \"wait_times\": [],\n",
    "    \"process_times\": [],\n",
    "    }\n",
    "    env = simpy.Environment()\n",
    "    env.process(setup(env, init, data))\n",
    "    env.run(until=MAX_SIM_TIME)\n",
    "    \n",
    "    \n",
    "    print(f\"Avg wait time: {np.mean(data['wait_times'])}\")\n",
    "    print(f\"Avg process time: {np.mean(data['process_times'])}\")"
   ]
  },
  {
   "cell_type": "code",
   "execution_count": 48,
   "metadata": {},
   "outputs": [
    {
     "name": "stdout",
     "output_type": "stream",
     "text": [
      "Avg wait time: 9.299990229046989\n",
      "Avg process time: 1.0019601564187075\n"
     ]
    }
   ],
   "source": [
    "INIT_TASKS = 4\n",
    "N_MACHINES = 1\n",
    "MAX_SIM_TIME = 100000\n",
    "\n",
    "MARKOV_TASK_DURATION = 1\n",
    "MARKOV_TASK_ARRIVAL = 0.9\n",
    "\n",
    "\n",
    "\n",
    "init = [INIT_TASKS, N_MACHINES, MARKOV_TASK_DURATION, MARKOV_TASK_ARRIVAL]\n",
    "\n",
    "run(init)"
   ]
  },
  {
   "cell_type": "code",
   "execution_count": 38,
   "metadata": {},
   "outputs": [
    {
     "name": "stdout",
     "output_type": "stream",
     "text": [
      "Avg wait time: 642.2247043177842\n",
      "Avg process time: 1.2831863549881068\n"
     ]
    }
   ],
   "source": [
    "INIT_TASKS = 4\n",
    "N_MACHINES = 2\n",
    "MAX_SIM_TIME = 10000\n",
    "\n",
    "MARKOV_TASK_DURATION = 1\n",
    "MARKOV_TASK_ARRIVAL = 1.8\n",
    "\n",
    "\n",
    "init = [INIT_TASKS, N_MACHINES, MARKOV_TASK_DURATION, MARKOV_TASK_ARRIVAL]\n",
    "\n",
    "run(init)"
   ]
  },
  {
   "cell_type": "code",
   "execution_count": 27,
   "metadata": {},
   "outputs": [
    {
     "name": "stdout",
     "output_type": "stream",
     "text": [
      "[1.749585746570078]\n",
      "[0.8966098907180297, 1.749585746570078]\n",
      "[0.16953797145259827, 0.8966098907180297, 1.749585746570078]\n",
      "[0.16953797145259827, 0.4005365349804915, 0.8966098907180297, 1.749585746570078]\n",
      "[0.08234912290023096, 0.8966098907180297, 1.749585746570078]\n",
      "[0.08234912290023096, 0.8966098907180297, 1.405905908621783, 1.749585746570078]\n",
      "[1.1635788951927017, 1.405905908621783, 1.749585746570078]\n",
      "[0.2376282250722193, 1.1635788951927017, 1.405905908621783, 1.749585746570078]\n",
      "[0.2376282250722193, 1.1635788951927017, 1.405905908621783, 1.749585746570078, 3.191326322082998]\n",
      "[0.2376282250722193, 1.1635788951927017, 1.405905908621783, 1.6874911968942081, 1.749585746570078, 3.191326322082998]\n",
      "[0.17342062525796054, 0.2376282250722193, 1.1635788951927017, 1.405905908621783, 1.6874911968942081, 1.749585746570078, 3.191326322082998]\n",
      "[1.1635788951927017, 1.405905908621783, 1.4895548904996352, 1.6874911968942081, 1.749585746570078, 3.191326322082998]\n",
      "[0.6205162143384024, 1.4895548904996352, 1.6874911968942081, 1.749585746570078, 3.191326322082998]\n",
      "[0.5174291631562947, 0.6205162143384024, 1.4895548904996352, 1.6874911968942081, 1.749585746570078, 3.191326322082998]\n",
      "[0.5174291631562947, 0.6205162143384024, 1.4895548904996352, 1.6874911968942081, 1.749585746570078, 1.9362445680689249, 3.191326322082998]\n",
      "[0.5174291631562947, 0.6205162143384024, 0.7304333488436813, 1.4895548904996352, 1.6874911968942081, 1.749585746570078, 1.9362445680689249, 3.191326322082998]\n",
      "[0.5174291631562947, 0.6205162143384024, 0.7304333488436813, 1.4895548904996352, 1.6874911968942081, 1.749585746570078, 1.9060369236954493, 1.9362445680689249, 3.191326322082998]\n",
      "[0.1689663529592519, 0.5174291631562947, 0.6205162143384024, 0.7304333488436813, 1.4895548904996352, 1.6874911968942081, 1.749585746570078, 1.9060369236954493, 1.9362445680689249, 3.191326322082998]\n",
      "[0.6205162143384024, 0.7304333488436813, 1.4895548904996352, 1.6874911968942081, 1.749585746570078, 1.9060369236954493, 1.9362445680689249, 3.191326322082998, 6.300841420444885]\n",
      "[1.4895548904996352, 1.6874911968942081, 1.749585746570078, 1.9033083574381604, 1.9060369236954493, 1.9362445680689249, 3.191326322082998, 6.300841420444885]\n",
      "[0.33653613310808034, 1.749585746570078, 1.9033083574381604, 1.9060369236954493, 1.9362445680689249, 3.191326322082998, 6.300841420444885]\n",
      "Avg wait time: 1.3241288625389966\n",
      "Avg process time: 1.123105550986608\n"
     ]
    }
   ],
   "source": [
    "INIT_TASKS = 4\n",
    "N_MACHINES = 2\n",
    "MAX_SIM_TIME = 10\n",
    "\n",
    "MARKOV_TASK_DURATION = 1\n",
    "MARKOV_TASK_ARRIVAL = 1.8\n",
    "\n",
    "\n",
    "init = [INIT_TASKS, N_MACHINES, MARKOV_TASK_DURATION, MARKOV_TASK_ARRIVAL]\n",
    "\n",
    "run(init)"
   ]
  },
  {
   "cell_type": "code",
   "execution_count": null,
   "metadata": {},
   "outputs": [],
   "source": []
  }
 ],
 "metadata": {
  "interpreter": {
   "hash": "916dbcbb3f70747c44a77c7bcd40155683ae19c65e1c03b4aa3499c5328201f1"
  },
  "kernelspec": {
   "display_name": "Python 3.8.10 64-bit",
   "language": "python",
   "name": "python3"
  },
  "language_info": {
   "codemirror_mode": {
    "name": "ipython",
    "version": 3
   },
   "file_extension": ".py",
   "mimetype": "text/x-python",
   "name": "python",
   "nbconvert_exporter": "python",
   "pygments_lexer": "ipython3",
   "version": "3.8.10"
  },
  "orig_nbformat": 4
 },
 "nbformat": 4,
 "nbformat_minor": 2
}
