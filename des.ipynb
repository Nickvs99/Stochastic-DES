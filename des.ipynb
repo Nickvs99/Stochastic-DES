{
 "cells": [
  {
   "cell_type": "markdown",
   "metadata": {},
   "source": [
    "# Stochastic simulation assignment 2\n",
    "## Peter Voerman and Nick van Santen\n",
    "### 11749547 and ..."
   ]
  },
  {
   "cell_type": "code",
   "execution_count": 7,
   "metadata": {},
   "outputs": [],
   "source": [
    "import math\n",
    "import numpy as np\n",
    "import random\n",
    "import simpy\n",
    "import bisect"
   ]
  },
  {
   "cell_type": "code",
   "execution_count": 8,
   "metadata": {},
   "outputs": [],
   "source": [
    "\n",
    "class Server():\n",
    "\n",
    "    def __init__(self, env, n_machines):\n",
    "        self.env = env\n",
    "        self.machine = simpy.PriorityResource(env, n_machines)\n",
    "\n",
    "    def run_task(self, waiting_time):\n",
    "        yield self.env.timeout(waiting_time)\n",
    "\n",
    "    @property\n",
    "    def queue_length(self):\n",
    "        return len(self.machine.queue)\n",
    "\n",
    "\n",
    "def process_task(env, server, data, waiting_times, duration, shortest_job_first, time_choice):\n",
    "    if time_choice == 'm':\n",
    "        waiting_time = generate_random_markov(duration)\n",
    "        if shortest_job_first:\n",
    "            bisect.insort(waiting_times, waiting_time)\n",
    "            index = (waiting_times.index(waiting_time))\n",
    "\n",
    "            for request in server.machine.queue:\n",
    "                if request.priority >= index:\n",
    "                    request.priority += 1\n",
    "        else:\n",
    "            index = 1\n",
    "    if time_choice == 'd':\n",
    "        waiting_time = duration\n",
    "        index = 1\n",
    "    \n",
    "\n",
    "    #print(f\"{task} added to server at {env.now}. Queue length: {server.queue_length}\")\n",
    "    time_at_queue = env.now\n",
    "    with server.machine.request(priority=index) as request:\n",
    "        yield request\n",
    "\n",
    "        #print(f\"{task} is being processed at {env.now}\")\n",
    "        time_start_process = env.now\n",
    "        yield env.process(server.run_task(waiting_time))\n",
    "        #print(f\"{task} is completed at {env.now}\")\n",
    "        time_end_process = env.now\n",
    "        \n",
    "\n",
    "    data[\"wait_times\"].append(time_start_process - time_at_queue)\n",
    "    data[\"process_times\"].append(time_end_process - time_start_process)\n",
    "\n",
    "def setup(env, init, data):\n",
    "    INIT_TASKS = init[0]\n",
    "    N_MACHINES = init[1]\n",
    "\n",
    "    MARKOV_TASK_DURATION = init[2]\n",
    "    MARKOV_TASK_ARRIVAL = init[3]\n",
    "    shortest_job_first = init[4]\n",
    "    time_choice = init[5]\n",
    "\n",
    "    server = Server(env, N_MACHINES)\n",
    "    waiting_times = []\n",
    "\n",
    "    for i in range(INIT_TASKS):\n",
    "        env.process(process_task(env, server, data, waiting_times, MARKOV_TASK_DURATION, shortest_job_first, time_choice))\n",
    "\n",
    "    while True:\n",
    "        yield env.timeout(generate_random_markov(MARKOV_TASK_ARRIVAL))\n",
    "        i += 1\n",
    "        # if server.queue_length > 0:\n",
    "        #     print(server.machine.queue)\n",
    "        env.process(process_task(env, server, data, waiting_times, MARKOV_TASK_DURATION, shortest_job_first, time_choice))\n",
    "\n",
    "\n",
    "def generate_random_markov(lamda):\n",
    "    \"\"\"\n",
    "    Markov CDF: y = 1 - e^(-lamda t)\n",
    "    The y value has a range of 0 to 1, which we can sample.\n",
    "    Thus we can obtain a random t value by sampling y\n",
    "\n",
    "    t = - ln(1 - y) / lamda\n",
    "    \"\"\"\n",
    "\n",
    "    r = random.random()\n",
    "    return -math.log(1 - r) / lamda\n",
    "\n",
    "def generate_long_tail():\n",
    "    \"\"\"\n",
    "    Generate a random number from a distribution where 75% of the jobs have an exponential distribution\n",
    "    with an average service time of 1.0 and the remaining 25% an exponential distribution\n",
    "    with an average service time of 5.0.\n",
    "\n",
    "    The average of the exponential distribution is 1 / lamda. Thus lamda = 1 / expectation.\n",
    "    \"\"\"\n",
    "\n",
    "    r = random.random()\n",
    "    \n",
    "    if r < 0.75:\n",
    "        lamda = 1 / 1\n",
    "    else:\n",
    "        lamda = 1 / 5\n",
    "    \n",
    "    return generate_random_markov(lamda)"
   ]
  },
  {
   "cell_type": "code",
   "execution_count": 9,
   "metadata": {},
   "outputs": [],
   "source": [
    "def run(init):\n",
    "    data = {\n",
    "    \"wait_times\": [],\n",
    "    \"process_times\": [],\n",
    "    }\n",
    "    env = simpy.Environment()\n",
    "    env.process(setup(env, init, data))\n",
    "    env.run(until=MAX_SIM_TIME)\n",
    "    \n",
    "    \n",
    "    print(f\"Avg wait time: {np.mean(data['wait_times'])}\")\n",
    "    print(f\"Avg process time: {np.mean(data['process_times'])}\")"
   ]
  },
  {
   "cell_type": "code",
   "execution_count": 10,
   "metadata": {},
   "outputs": [
    {
     "name": "stdout",
     "output_type": "stream",
     "text": [
      "Shortest job first:\n",
      "Avg wait time: 3.248558071967208\n",
      "Avg process time: 1.009686086267107\n",
      "First in first out:\n",
      "Avg wait time: 14.945033598470092\n",
      "Avg process time: 1.0078024090487203\n"
     ]
    }
   ],
   "source": [
    "INIT_TASKS = 4\n",
    "N_MACHINES = 1\n",
    "MAX_SIM_TIME = 10000\n",
    "\n",
    "MARKOV_TASK_DURATION = 1\n",
    "MARKOV_TASK_ARRIVAL = 0.9\n",
    "shortest_job_first = True\n",
    "time_choice = 'm'\n",
    "\n",
    "init = [INIT_TASKS, N_MACHINES, MARKOV_TASK_DURATION, MARKOV_TASK_ARRIVAL, shortest_job_first, time_choice]\n",
    "\n",
    "print(\"Shortest job first:\")\n",
    "run(init)\n",
    "\n",
    "shortest_job_first = False\n",
    "\n",
    "init = [INIT_TASKS, N_MACHINES, MARKOV_TASK_DURATION, MARKOV_TASK_ARRIVAL, shortest_job_first, time_choice]\n",
    "\n",
    "print(\"First in first out:\")\n",
    "run(init)"
   ]
  },
  {
   "cell_type": "code",
   "execution_count": 11,
   "metadata": {},
   "outputs": [
    {
     "name": "stdout",
     "output_type": "stream",
     "text": [
      "Shortest job first:\n",
      "Avg wait time: 1.6949542628520597\n",
      "Avg process time: 0.9994817380601897\n",
      "First in first out:\n",
      "Avg wait time: 3.4744617921904406\n",
      "Avg process time: 1.0039105594979054\n"
     ]
    }
   ],
   "source": [
    "INIT_TASKS = 4\n",
    "N_MACHINES = 2\n",
    "MAX_SIM_TIME = 10000\n",
    "\n",
    "MARKOV_TASK_DURATION = 1\n",
    "MARKOV_TASK_ARRIVAL = 1.8\n",
    "shortest_job_first = True\n",
    "\n",
    "init = [INIT_TASKS, N_MACHINES, MARKOV_TASK_DURATION, MARKOV_TASK_ARRIVAL, shortest_job_first, time_choice]\n",
    "\n",
    "print(\"Shortest job first:\")\n",
    "run(init)\n",
    "\n",
    "shortest_job_first = False\n",
    "\n",
    "init = [INIT_TASKS, N_MACHINES, MARKOV_TASK_DURATION, MARKOV_TASK_ARRIVAL, shortest_job_first, time_choice]\n",
    "\n",
    "print(\"First in first out:\")\n",
    "run(init)"
   ]
  },
  {
   "cell_type": "code",
   "execution_count": 16,
   "metadata": {},
   "outputs": [
    {
     "name": "stdout",
     "output_type": "stream",
     "text": [
      "Shortest job first:\n",
      "Avg wait time: 4.179271022732335\n",
      "Avg process time: 1.0\n",
      "First in first out:\n",
      "Avg wait time: 4.3543113202361745\n",
      "Avg process time: 1.0\n"
     ]
    }
   ],
   "source": [
    "INIT_TASKS = 4\n",
    "N_MACHINES = 1\n",
    "MAX_SIM_TIME = 100000\n",
    "\n",
    "MARKOV_TASK_DURATION = 1\n",
    "MARKOV_TASK_ARRIVAL = 0.9\n",
    "shortest_job_first = True\n",
    "time_choice = 'd'\n",
    "\n",
    "init = [INIT_TASKS, N_MACHINES, MARKOV_TASK_DURATION, MARKOV_TASK_ARRIVAL, shortest_job_first, time_choice]\n",
    "\n",
    "print(\"Shortest job first:\")\n",
    "run(init)\n",
    "\n",
    "shortest_job_first = False\n",
    "\n",
    "init = [INIT_TASKS, N_MACHINES, MARKOV_TASK_DURATION, MARKOV_TASK_ARRIVAL, shortest_job_first, time_choice]\n",
    "\n",
    "print(\"First in first out:\")\n",
    "run(init)"
   ]
  },
  {
   "cell_type": "code",
   "execution_count": null,
   "metadata": {},
   "outputs": [],
   "source": []
  },
  {
   "cell_type": "code",
   "execution_count": null,
   "metadata": {},
   "outputs": [],
   "source": []
  }
 ],
 "metadata": {
  "interpreter": {
   "hash": "916dbcbb3f70747c44a77c7bcd40155683ae19c65e1c03b4aa3499c5328201f1"
  },
  "kernelspec": {
   "display_name": "Python 3 (ipykernel)",
   "language": "python",
   "name": "python3"
  },
  "language_info": {
   "codemirror_mode": {
    "name": "ipython",
    "version": 3
   },
   "file_extension": ".py",
   "mimetype": "text/x-python",
   "name": "python",
   "nbconvert_exporter": "python",
   "pygments_lexer": "ipython3",
   "version": "3.8.10"
  },
  "orig_nbformat": 4
 },
 "nbformat": 4,
 "nbformat_minor": 2
}
