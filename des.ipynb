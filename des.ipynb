{
 "cells": [
  {
   "cell_type": "markdown",
   "metadata": {},
   "source": [
    "# Stochastic simulation assignment 2\n",
    "## Peter Voerman and Nick van Santen\n",
    "### 11749547 and ..."
   ]
  },
  {
   "cell_type": "code",
   "execution_count": 1,
   "metadata": {},
   "outputs": [],
   "source": [
    "import math\n",
    "import numpy as np\n",
    "import random\n",
    "import simpy\n",
    "import bisect"
   ]
  },
  {
   "cell_type": "code",
   "execution_count": 10,
   "metadata": {},
   "outputs": [],
   "source": [
    "\n",
    "class Server():\n",
    "\n",
    "    def __init__(self, env, n_machines):\n",
    "        self.env = env\n",
    "        self.machine = simpy.PriorityResource(env, n_machines)\n",
    "\n",
    "    def run_task(self, waiting_time):\n",
    "        yield self.env.timeout(waiting_time)\n",
    "\n",
    "    @property\n",
    "    def queue_length(self):\n",
    "        return len(self.machine.queue)\n",
    "\n",
    "\n",
    "def process_task(env, server, data, waiting_times, duration, shortest_job_first, time_choice):\n",
    "    if time_choice == 'm':\n",
    "        waiting_time = generate_random_markov(duration)\n",
    "    if time_choice == 'd':\n",
    "        waiting_time = duration\n",
    "    if shortest_job_first:\n",
    "        bisect.insort(waiting_times, waiting_time)\n",
    "        index = (waiting_times.index(waiting_time))\n",
    "\n",
    "        for request in server.machine.queue:\n",
    "            if request.priority >= index:\n",
    "                request.priority += 1\n",
    "    else:\n",
    "        index = 1\n",
    "\n",
    "    #print(f\"{task} added to server at {env.now}. Queue length: {server.queue_length}\")\n",
    "    time_at_queue = env.now\n",
    "    with server.machine.request(priority=index) as request:\n",
    "        yield request\n",
    "\n",
    "        #print(f\"{task} is being processed at {env.now}\")\n",
    "        time_start_process = env.now\n",
    "        yield env.process(server.run_task(waiting_time))\n",
    "        #print(f\"{task} is completed at {env.now}\")\n",
    "        time_end_process = env.now\n",
    "        \n",
    "\n",
    "    data[\"wait_times\"].append(time_start_process - time_at_queue)\n",
    "    data[\"process_times\"].append(time_end_process - time_start_process)\n",
    "\n",
    "def setup(env, init, data):\n",
    "    INIT_TASKS = init[0]\n",
    "    N_MACHINES = init[1]\n",
    "\n",
    "    MARKOV_TASK_DURATION = init[2]\n",
    "    MARKOV_TASK_ARRIVAL = init[3]\n",
    "    shortest_job_first = init[4]\n",
    "    time_choice = init[5]\n",
    "\n",
    "    server = Server(env, N_MACHINES)\n",
    "    waiting_times = []\n",
    "\n",
    "    for i in range(INIT_TASKS):\n",
    "        env.process(process_task(env, server, data, waiting_times, MARKOV_TASK_DURATION, shortest_job_first, time_choice))\n",
    "\n",
    "    while True:\n",
    "        if time_choice == 'm':\n",
    "            yield env.timeout(generate_random_markov(MARKOV_TASK_ARRIVAL))\n",
    "        if time_choice == 'd':\n",
    "            yield env.timeout(MARKOV_TIME_ARRIVAL)\n",
    "        i += 1\n",
    "        # if server.queue_length > 0:\n",
    "        #     print(server.machine.queue)\n",
    "        env.process(process_task(env, server, data, waiting_times, MARKOV_TASK_DURATION, shortest_job_first, time_choice))\n",
    "\n",
    "\n",
    "def generate_random_markov(lamda):\n",
    "    \"\"\"\n",
    "    Markov CDF: y = 1 - e^(-lamda t)\n",
    "    The y value has a range of 0 to 1, which we can sample.\n",
    "    Thus we can obtain a random t value by sampling y\n",
    "\n",
    "    t = - ln(1 - y) / lamda\n",
    "    \"\"\"\n",
    "\n",
    "    r = random.random()\n",
    "    return -math.log(1 - r) / lamda\n"
   ]
  },
  {
   "cell_type": "code",
   "execution_count": 8,
   "metadata": {},
   "outputs": [],
   "source": [
    "def run(init):\n",
    "    data = {\n",
    "    \"wait_times\": [],\n",
    "    \"process_times\": [],\n",
    "    }\n",
    "    env = simpy.Environment()\n",
    "    env.process(setup(env, init, data))\n",
    "    env.run(until=MAX_SIM_TIME)\n",
    "    \n",
    "    \n",
    "    print(f\"Avg wait time: {np.mean(data['wait_times'])}\")\n",
    "    print(f\"Avg process time: {np.mean(data['process_times'])}\")"
   ]
  },
  {
   "cell_type": "code",
   "execution_count": 11,
   "metadata": {},
   "outputs": [
    {
     "name": "stdout",
     "output_type": "stream",
     "text": [
      "Shortest job first:\n",
      "Avg wait time: 2.8983136798536386\n",
      "Avg process time: 0.9894172904482481\n",
      "First in first out:\n",
      "Avg wait time: 9.294286607182894\n",
      "Avg process time: 0.9971276200043759\n"
     ]
    }
   ],
   "source": [
    "INIT_TASKS = 4\n",
    "N_MACHINES = 1\n",
    "MAX_SIM_TIME = 10000\n",
    "\n",
    "MARKOV_TASK_DURATION = 1\n",
    "MARKOV_TASK_ARRIVAL = 0.9\n",
    "shortest_job_first = True\n",
    "time_choice = 'm'\n",
    "\n",
    "init = [INIT_TASKS, N_MACHINES, MARKOV_TASK_DURATION, MARKOV_TASK_ARRIVAL, shortest_job_first, time_choice]\n",
    "\n",
    "print(\"Shortest job first:\")\n",
    "run(init)\n",
    "\n",
    "shortest_job_first = False\n",
    "\n",
    "init = [INIT_TASKS, N_MACHINES, MARKOV_TASK_DURATION, MARKOV_TASK_ARRIVAL, shortest_job_first, time_choice]\n",
    "\n",
    "print(\"First in first out:\")\n",
    "run(init)"
   ]
  },
  {
   "cell_type": "code",
   "execution_count": 12,
   "metadata": {},
   "outputs": [
    {
     "name": "stdout",
     "output_type": "stream",
     "text": [
      "Shortest job first:\n",
      "Avg wait time: 1.8057068375632308\n",
      "Avg process time: 1.0070831710973343\n",
      "First in first out:\n",
      "Avg wait time: 4.214986753564706\n",
      "Avg process time: 1.0059009070818505\n"
     ]
    }
   ],
   "source": [
    "INIT_TASKS = 4\n",
    "N_MACHINES = 2\n",
    "MAX_SIM_TIME = 10000\n",
    "\n",
    "MARKOV_TASK_DURATION = 1\n",
    "MARKOV_TASK_ARRIVAL = 1.8\n",
    "shortest_job_first = True\n",
    "\n",
    "init = [INIT_TASKS, N_MACHINES, MARKOV_TASK_DURATION, MARKOV_TASK_ARRIVAL, shortest_job_first, time_choice]\n",
    "\n",
    "print(\"Shortest job first:\")\n",
    "run(init)\n",
    "\n",
    "shortest_job_first = False\n",
    "\n",
    "init = [INIT_TASKS, N_MACHINES, MARKOV_TASK_DURATION, MARKOV_TASK_ARRIVAL, shortest_job_first, time_choice]\n",
    "\n",
    "print(\"First in first out:\")\n",
    "run(init)"
   ]
  },
  {
   "cell_type": "code",
   "execution_count": 6,
   "metadata": {},
   "outputs": [
    {
     "name": "stdout",
     "output_type": "stream",
     "text": [
      "Avg wait time: 0.14315411054731736\n",
      "Avg process time: 0.6188183303112795\n"
     ]
    }
   ],
   "source": [
    "INIT_TASKS = 4\n",
    "N_MACHINES = 2\n",
    "MAX_SIM_TIME = 10\n",
    "\n",
    "MARKOV_TASK_DURATION = 1\n",
    "MARKOV_TASK_ARRIVAL = 1.8\n",
    "\n",
    "\n",
    "init = [INIT_TASKS, N_MACHINES, MARKOV_TASK_DURATION, MARKOV_TASK_ARRIVAL]\n",
    "\n",
    "run(init)"
   ]
  },
  {
   "cell_type": "code",
   "execution_count": null,
   "metadata": {},
   "outputs": [],
   "source": []
  }
 ],
 "metadata": {
  "interpreter": {
   "hash": "916dbcbb3f70747c44a77c7bcd40155683ae19c65e1c03b4aa3499c5328201f1"
  },
  "kernelspec": {
   "display_name": "Python 3 (ipykernel)",
   "language": "python",
   "name": "python3"
  },
  "language_info": {
   "codemirror_mode": {
    "name": "ipython",
    "version": 3
   },
   "file_extension": ".py",
   "mimetype": "text/x-python",
   "name": "python",
   "nbconvert_exporter": "python",
   "pygments_lexer": "ipython3",
   "version": "3.8.10"
  },
  "orig_nbformat": 4
 },
 "nbformat": 4,
 "nbformat_minor": 2
}
