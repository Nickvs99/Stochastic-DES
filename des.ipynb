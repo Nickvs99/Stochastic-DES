{
 "cells": [
  {
   "cell_type": "markdown",
   "metadata": {},
   "source": [
    "# Stochastic simulation assignment 2\n",
    "## Peter Voerman and Nick van Santen\n",
    "### 11749547 and 11857846"
   ]
  },
  {
   "cell_type": "code",
   "execution_count": 14,
   "metadata": {},
   "outputs": [],
   "source": [
    "import bisect\n",
    "import math\n",
    "import matplotlib.pyplot as plt\n",
    "import numpy as np\n",
    "import random\n",
    "import simpy\n",
    "import scipy.stats"
   ]
  },
  {
   "cell_type": "code",
   "execution_count": 15,
   "metadata": {},
   "outputs": [],
   "source": [
    "class Server():\n",
    "\n",
    "    def __init__(self, env, n_machines):\n",
    "        self.env = env\n",
    "        self.machine = simpy.PriorityResource(env, n_machines)\n",
    "\n",
    "    def run_task(self, waiting_time):\n",
    "        yield self.env.timeout(waiting_time)\n",
    "\n",
    "    @property\n",
    "    def queue_length(self):\n",
    "        return len(self.machine.queue)\n",
    "\n",
    "\n",
    "def process_task(env, server, data, waiting_times, duration, shortest_job_first, time_choice):\n",
    "    if time_choice == 'm':\n",
    "        waiting_time = generate_random_markov(duration)\n",
    "        if shortest_job_first:\n",
    "            bisect.insort(waiting_times, waiting_time)\n",
    "            index = (waiting_times.index(waiting_time))\n",
    "\n",
    "            for request in server.machine.queue:\n",
    "                if request.priority >= index:\n",
    "                    request.priority += 1\n",
    "        else:\n",
    "            index = 1\n",
    "    if time_choice == 'd':\n",
    "        waiting_time = duration\n",
    "        index = 1\n",
    "    \n",
    "\n",
    "    #print(f\"{task} added to server at {env.now}. Queue length: {server.queue_length}\")\n",
    "    time_at_queue = env.now\n",
    "    with server.machine.request(priority=index) as request:\n",
    "        yield request\n",
    "\n",
    "        #print(f\"{task} is being processed at {env.now}\")\n",
    "        time_start_process = env.now\n",
    "        yield env.process(server.run_task(waiting_time))\n",
    "        #print(f\"{task} is completed at {env.now}\")\n",
    "        time_end_process = env.now\n",
    "        \n",
    "\n",
    "    data[\"wait_times\"].append(time_start_process - time_at_queue)\n",
    "    data[\"process_times\"].append(time_end_process - time_start_process)\n",
    "\n",
    "def setup(env, init, data):\n",
    "    INIT_TASKS = init[0]\n",
    "    N_MACHINES = init[1]\n",
    "\n",
    "    MARKOV_TASK_DURATION = init[2]\n",
    "    MARKOV_TASK_ARRIVAL = init[3]\n",
    "    shortest_job_first = init[4]\n",
    "    time_choice = init[5]\n",
    "\n",
    "    server = Server(env, N_MACHINES)\n",
    "    waiting_times = []\n",
    "\n",
    "    for i in range(INIT_TASKS):\n",
    "        env.process(process_task(env, server, data, waiting_times, MARKOV_TASK_DURATION, shortest_job_first, time_choice))\n",
    "\n",
    "    while True:\n",
    "        yield env.timeout(generate_random_markov(MARKOV_TASK_ARRIVAL))\n",
    "        i += 1\n",
    "        # if server.queue_length > 0:\n",
    "        #     print(server.machine.queue)\n",
    "        env.process(process_task(env, server, data, waiting_times, MARKOV_TASK_DURATION, shortest_job_first, time_choice))\n",
    "\n",
    "\n",
    "def generate_random_markov(lamda):\n",
    "    \"\"\"\n",
    "    Markov CDF: y = 1 - e^(-lamda t)\n",
    "    The y value has a range of 0 to 1, which we can sample.\n",
    "    Thus we can obtain a random t value by sampling y\n",
    "\n",
    "    t = - ln(1 - y) / lamda\n",
    "    \"\"\"\n",
    "\n",
    "    r = random.random()\n",
    "    return -math.log(1 - r) / lamda\n",
    "\n",
    "def generate_long_tail():\n",
    "    \"\"\"\n",
    "    Generate a random number from a distribution where 75% of the jobs have an exponential distribution\n",
    "    with an average service time of 1.0 and the remaining 25% an exponential distribution\n",
    "    with an average service time of 5.0.\n",
    "\n",
    "    The average of the exponential distribution is 1 / lamda. Thus lamda = 1 / expectation.\n",
    "    \"\"\"\n",
    "\n",
    "    r = random.random()\n",
    "    \n",
    "    if r < 0.75:\n",
    "        lamda = 1 / 1\n",
    "    else:\n",
    "        lamda = 1 / 5\n",
    "    \n",
    "    return generate_random_markov(lamda)"
   ]
  },
  {
   "cell_type": "code",
   "execution_count": 16,
   "metadata": {},
   "outputs": [],
   "source": [
    "def run(init):\n",
    "    data = {\n",
    "    \"wait_times\": [],\n",
    "    \"process_times\": [],\n",
    "    }\n",
    "    env = simpy.Environment()\n",
    "    env.process(setup(env, init, data))\n",
    "    env.run(until=MAX_SIM_TIME)\n",
    "    \n",
    "    avg_wait_time = np.mean(data[\"wait_times\"])\n",
    "    avg_process_time = np.mean(data[\"process_times\"])   \n",
    "    \n",
    "    # print(f\"Avg wait time: {avg_wait_time}\")\n",
    "    # print(f\"Avg process time: {avg_process_time}\")\n",
    "    \n",
    "    return avg_wait_time, avg_process_time"
   ]
  },
  {
   "cell_type": "code",
   "execution_count": 10,
   "metadata": {},
   "outputs": [
    {
     "name": "stdout",
     "output_type": "stream",
     "text": [
      "Shortest job first:\n",
      "Avg wait time: 3.248558071967208\n",
      "Avg process time: 1.009686086267107\n",
      "First in first out:\n",
      "Avg wait time: 14.945033598470092\n",
      "Avg process time: 1.0078024090487203\n"
     ]
    }
   ],
   "source": [
    "INIT_TASKS = 4\n",
    "N_MACHINES = 1\n",
    "MAX_SIM_TIME = 10000\n",
    "\n",
    "MARKOV_TASK_DURATION = 1\n",
    "MARKOV_TASK_ARRIVAL = 0.9\n",
    "shortest_job_first = True\n",
    "time_choice = 'm'\n",
    "\n",
    "init = [INIT_TASKS, N_MACHINES, MARKOV_TASK_DURATION, MARKOV_TASK_ARRIVAL, shortest_job_first, time_choice]\n",
    "\n",
    "print(\"Shortest job first:\")\n",
    "run(init)\n",
    "\n",
    "shortest_job_first = False\n",
    "\n",
    "init = [INIT_TASKS, N_MACHINES, MARKOV_TASK_DURATION, MARKOV_TASK_ARRIVAL, shortest_job_first, time_choice]\n",
    "\n",
    "print(\"First in first out:\")\n",
    "run(init)"
   ]
  },
  {
   "cell_type": "code",
   "execution_count": 11,
   "metadata": {},
   "outputs": [
    {
     "name": "stdout",
     "output_type": "stream",
     "text": [
      "Shortest job first:\n",
      "Avg wait time: 1.6949542628520597\n",
      "Avg process time: 0.9994817380601897\n",
      "First in first out:\n",
      "Avg wait time: 3.4744617921904406\n",
      "Avg process time: 1.0039105594979054\n"
     ]
    }
   ],
   "source": [
    "INIT_TASKS = 4\n",
    "N_MACHINES = 2\n",
    "MAX_SIM_TIME = 10000\n",
    "\n",
    "MARKOV_TASK_DURATION = 1\n",
    "MARKOV_TASK_ARRIVAL = 1.8\n",
    "shortest_job_first = True\n",
    "\n",
    "init = [INIT_TASKS, N_MACHINES, MARKOV_TASK_DURATION, MARKOV_TASK_ARRIVAL, shortest_job_first, time_choice]\n",
    "\n",
    "print(\"Shortest job first:\")\n",
    "run(init)\n",
    "\n",
    "shortest_job_first = False\n",
    "\n",
    "init = [INIT_TASKS, N_MACHINES, MARKOV_TASK_DURATION, MARKOV_TASK_ARRIVAL, shortest_job_first, time_choice]\n",
    "\n",
    "print(\"First in first out:\")\n",
    "run(init)"
   ]
  },
  {
   "cell_type": "code",
   "execution_count": 16,
   "metadata": {},
   "outputs": [
    {
     "name": "stdout",
     "output_type": "stream",
     "text": [
      "Shortest job first:\n",
      "Avg wait time: 4.179271022732335\n",
      "Avg process time: 1.0\n",
      "First in first out:\n",
      "Avg wait time: 4.3543113202361745\n",
      "Avg process time: 1.0\n"
     ]
    }
   ],
   "source": [
    "INIT_TASKS = 4\n",
    "N_MACHINES = 1\n",
    "MAX_SIM_TIME = 100000\n",
    "\n",
    "MARKOV_TASK_DURATION = 1\n",
    "MARKOV_TASK_ARRIVAL = 0.9\n",
    "shortest_job_first = True\n",
    "time_choice = 'd'\n",
    "\n",
    "init = [INIT_TASKS, N_MACHINES, MARKOV_TASK_DURATION, MARKOV_TASK_ARRIVAL, shortest_job_first, time_choice]\n",
    "\n",
    "print(\"Shortest job first:\")\n",
    "run(init)\n",
    "\n",
    "shortest_job_first = False\n",
    "\n",
    "init = [INIT_TASKS, N_MACHINES, MARKOV_TASK_DURATION, MARKOV_TASK_ARRIVAL, shortest_job_first, time_choice]\n",
    "\n",
    "print(\"First in first out:\")\n",
    "run(init)"
   ]
  },
  {
   "cell_type": "markdown",
   "metadata": {},
   "source": [
    "## Statistical significance"
   ]
  },
  {
   "cell_type": "code",
   "execution_count": 17,
   "metadata": {},
   "outputs": [],
   "source": [
    "def calc_pvalue(data1, data2):\n",
    "    \"\"\"Calculates the pvalue for two data sets. \"\"\"\n",
    "\n",
    "    return scipy.stats.ttest_ind(data1, data2).pvalue\n",
    "\n",
    "def calc_rho_significance(rhos, lamda):\n",
    "    \"\"\"\n",
    "    Will look into how many experiments are needed to have significant difference \n",
    "    between multiple configurations. And how this depends on rho\n",
    "    \"\"\"\n",
    "\n",
    "    results = []\n",
    "    for rho in rhos:\n",
    "        results.append(n_experiments(rho, lamda))\n",
    "\n",
    "    print(rhos)\n",
    "    print(results)\n",
    "    \n",
    "    plt.xlabel(\"rho\")\n",
    "    plt.ylabel(\"# experiments\")\n",
    "    plt.plot(rhos, results)\n",
    "    plt.show()\n",
    "\n",
    "def n_experiments(rho, lamda):\n",
    "\n",
    "    p_significance = 0.05\n",
    "    max_counter = 10000\n",
    "\n",
    "    datas = [[], [], []]\n",
    "    counter = 0\n",
    "    \n",
    "    while True:\n",
    "\n",
    "        datas[0] += generate_data(rho, lamda, 1, 1)\n",
    "        datas[1] += generate_data(rho, lamda, 2, 1)\n",
    "        datas[2] += generate_data(rho, lamda, 4, 1)\n",
    "\n",
    "        counter += 1\n",
    "\n",
    "        # If counter is 1 then there is only one data point for each configuration.\n",
    "        # There is no way to perform a ttest with one data point\n",
    "        if counter == 1:\n",
    "            continue\n",
    "\n",
    "        # Calc p value for each combination of the data sets\n",
    "        pvalue01 = calc_pvalue(datas[0], datas[1])\n",
    "        pvalue02 = calc_pvalue(datas[0], datas[2])\n",
    "        pvalue12 = calc_pvalue(datas[1], datas[2])\n",
    "\n",
    "        print(f\"\\r{rho:.2f}, {counter}, {pvalue01}, {pvalue02}, {pvalue12}\", end=\"\")\n",
    "        if pvalue01 < p_significance and pvalue02 < p_significance and pvalue12 < p_significance:\n",
    "            print(\"\")\n",
    "            return counter\n",
    "\n",
    "        if counter >= max_counter:\n",
    "            print(\"WARNING: terminating early\")\n",
    "            return max_counter\n",
    "\n",
    "def generate_data(rho, lamda, n_machines, nruns):\n",
    "\n",
    "    # Calculate the server capacity needed to achieve an average server load of rho\n",
    "    mu = lamda / (n_machines * rho)\n",
    "\n",
    "    data = []\n",
    "    for i in range(nruns):\n",
    "        \n",
    "        # Each machine is initialized with 1 task\n",
    "        # The expectation value for the arrival rate is lamda \n",
    "        # thus the parameter is 1 / lamda.\n",
    "        # The average task duration is 1/mu. Thus the task duration parameter is\n",
    "        # 1/(1/mu) = mu\n",
    "        parameters = [n_machines, n_machines, mu, 1/lamda, False, \"m\"]\n",
    "        results = run(parameters)\n",
    "        data.append(results[0])\n",
    "\n",
    "    return data"
   ]
  },
  {
   "cell_type": "code",
   "execution_count": 18,
   "metadata": {},
   "outputs": [
    {
     "name": "stdout",
     "output_type": "stream",
     "text": [
      "0.10, 2, 1.534669286992319e-05, 4.4783777741667036e-05, 0.0014612124597483938\n",
      "0.19, 2, 0.009216723812267564, 0.003972361542322458, 0.0007343600566123573\n",
      "0.28, 3, 0.008126966281069316, 4.903757163700739e-08, 0.005613343321257232\n",
      "0.37, 4, 0.0035437535841596228, 9.195859199897771e-05, 0.017635480536511934\n",
      "0.46, 5, 0.0020820557926565764, 0.00040037925646619043, 0.047223692406302774\n",
      "0.54, 4, 0.0039132170948927925, 3.724048866184435e-05, 0.03278699205401257\n",
      "0.63, 14, 0.028480022144530912, 2.3115302311464487e-10, 1.9596730807234998e-06\n",
      "0.72, 32, 0.032481796206342325, 1.1606197376000653e-06, 0.01118975730199215\n",
      "0.81, 94, 0.039881230698489235, 1.1123925484251365e-07, 0.004314945734876652\n",
      "0.90, 599, 0.010374031348979193, 1.0334024508652113e-05, 0.049121694542290165\n",
      "[0.1        0.18888889 0.27777778 0.36666667 0.45555556 0.54444444\n",
      " 0.63333333 0.72222222 0.81111111 0.9       ]\n",
      "[2, 2, 3, 4, 5, 4, 14, 32, 94, 599]\n"
     ]
    },
    {
     "data": {
      "image/png": "[encoded data removed]",
      "text/plain": [
       "<Figure size 432x288 with 1 Axes>"
      ]
     },
     "metadata": {
      "needs_background": "light"
     },
     "output_type": "display_data"
    }
   ],
   "source": [
    "MAX_SIM_TIME = 1000\n",
    "rhos = np.linspace(0.1, 0.9, 10)\n",
    "calc_rho_significance(rhos, 1)"
   ]
  },
  {
   "cell_type": "code",
   "execution_count": null,
   "metadata": {},
   "outputs": [],
   "source": []
  }
 ],
 "metadata": {
  "interpreter": {
   "hash": "916dbcbb3f70747c44a77c7bcd40155683ae19c65e1c03b4aa3499c5328201f1"
  },
  "kernelspec": {
   "display_name": "Python 3 (ipykernel)",
   "language": "python",
   "name": "python3"
  },
  "language_info": {
   "codemirror_mode": {
    "name": "ipython",
    "version": 3
   },
   "file_extension": ".py",
   "mimetype": "text/x-python",
   "name": "python",
   "nbconvert_exporter": "python",
   "pygments_lexer": "ipython3",
   "version": "3.9.4"
  },
  "orig_nbformat": 4
 },
 "nbformat": 4,
 "nbformat_minor": 2
}
