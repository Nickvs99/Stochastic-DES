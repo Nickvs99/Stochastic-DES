{
 "cells": [
  {
   "cell_type": "markdown",
   "metadata": {},
   "source": [
    "# Stochastic simulation assignment 2\n",
    "## Peter Voerman and Nick van Santen\n",
    "### 11749547 and 11857846"
   ]
  },
  {
   "cell_type": "code",
   "execution_count": 23,
   "metadata": {},
   "outputs": [],
   "source": [
    "import bisect\n",
    "import math\n",
    "import matplotlib.pyplot as plt\n",
    "import numpy as np\n",
    "import random\n",
    "import simpy\n",
    "import scipy.stats"
   ]
  },
  {
   "cell_type": "code",
   "execution_count": 24,
   "metadata": {},
   "outputs": [],
   "source": [
    "class Server():\n",
    "\n",
    "    def __init__(self, env, n_machines):\n",
    "        self.env = env\n",
    "        self.machine = simpy.PriorityResource(env, n_machines)\n",
    "\n",
    "    def run_task(self, waiting_time):\n",
    "        yield self.env.timeout(waiting_time)\n",
    "\n",
    "    @property\n",
    "    def queue_length(self):\n",
    "        return len(self.machine.queue)\n",
    "\n",
    "\n",
    "def process_task(env, server, data, waiting_times, duration, shortest_job_first, time_choice):\n",
    "    if time_choice == 'm':\n",
    "        waiting_time = generate_random_markov(duration)\n",
    "        if shortest_job_first:\n",
    "            bisect.insort(waiting_times, waiting_time)\n",
    "            index = (waiting_times.index(waiting_time))\n",
    "\n",
    "            for request in server.machine.queue:\n",
    "                if request.priority >= index:\n",
    "                    request.priority += 1\n",
    "        else:\n",
    "            index = 1\n",
    "            \n",
    "    elif time_choice == 'd':\n",
    "        waiting_time = duration\n",
    "        index = 1\n",
    "    \n",
    "\n",
    "    #print(f\"{task} added to server at {env.now}. Queue length: {server.queue_length}\")\n",
    "    time_at_queue = env.now\n",
    "    with server.machine.request(priority=index) as request:\n",
    "        yield request\n",
    "\n",
    "        #print(f\"{task} is being processed at {env.now}\")\n",
    "        time_start_process = env.now\n",
    "        yield env.process(server.run_task(waiting_time))\n",
    "        #print(f\"{task} is completed at {env.now}\")\n",
    "        time_end_process = env.now\n",
    "        \n",
    "\n",
    "    data[\"wait_times\"].append(time_start_process - time_at_queue)\n",
    "    data[\"process_times\"].append(time_end_process - time_start_process)\n",
    "\n",
    "def setup(env, init, data):\n",
    "    INIT_TASKS = init[0]\n",
    "    N_MACHINES = init[1]\n",
    "\n",
    "    MARKOV_TASK_DURATION = init[2]\n",
    "    MARKOV_TASK_ARRIVAL = init[3]\n",
    "    shortest_job_first = init[4]\n",
    "    time_choice = init[5]\n",
    "\n",
    "    server = Server(env, N_MACHINES)\n",
    "    waiting_times = []\n",
    "\n",
    "    for i in range(INIT_TASKS):\n",
    "        env.process(process_task(env, server, data, waiting_times, MARKOV_TASK_DURATION, shortest_job_first, time_choice))\n",
    "\n",
    "    while True:\n",
    "        yield env.timeout(generate_random_markov(MARKOV_TASK_ARRIVAL))\n",
    "        i += 1\n",
    "        # if server.queue_length > 0:\n",
    "        #     print(server.machine.queue)\n",
    "        env.process(process_task(env, server, data, waiting_times, MARKOV_TASK_DURATION, shortest_job_first, time_choice))\n",
    "\n",
    "\n",
    "def generate_random_markov(lamda):\n",
    "    \"\"\"\n",
    "    Markov CDF: y = 1 - e^(-lamda t)\n",
    "    The y value has a range of 0 to 1, which we can sample.\n",
    "    Thus we can obtain a random t value by sampling y\n",
    "\n",
    "    t = - ln(1 - y) / lamda\n",
    "    \"\"\"\n",
    "\n",
    "    r = random.random()\n",
    "    return -math.log(1 - r) / lamda\n",
    "\n",
    "def generate_long_tail():\n",
    "    \"\"\"\n",
    "    Generate a random number from a distribution where 75% of the jobs have an exponential distribution\n",
    "    with an average service time of 1.0 and the remaining 25% an exponential distribution\n",
    "    with an average service time of 5.0.\n",
    "\n",
    "    The average of the exponential distribution is 1 / lamda. Thus lamda = 1 / expectation.\n",
    "    \"\"\"\n",
    "\n",
    "    r = random.random()\n",
    "    \n",
    "    if r < 0.75:\n",
    "        lamda = 1 / 1\n",
    "    else:\n",
    "        lamda = 1 / 5\n",
    "    \n",
    "    return generate_random_markov(lamda)"
   ]
  },
  {
   "cell_type": "code",
   "execution_count": 25,
   "metadata": {},
   "outputs": [],
   "source": [
    "def run(init, printing=False):\n",
    "    data = {\n",
    "    \"wait_times\": [],\n",
    "    \"process_times\": [],\n",
    "    }\n",
    "    env = simpy.Environment()\n",
    "    env.process(setup(env, init, data))\n",
    "    env.run(until=MAX_SIM_TIME)\n",
    "    \n",
    "    avg_wait_time = np.mean(data[\"wait_times\"])\n",
    "    avg_process_time = np.mean(data[\"process_times\"])   \n",
    "    \n",
    "    if printing:\n",
    "        print(f\"Avg wait time: {avg_wait_time}\")\n",
    "        print(f\"Avg process time: {avg_process_time}\")\n",
    "    \n",
    "    return avg_wait_time, avg_process_time"
   ]
  },
  {
   "cell_type": "code",
   "execution_count": 4,
   "metadata": {},
   "outputs": [
    {
     "name": "stdout",
     "output_type": "stream",
     "text": [
      "Shortest job first:\n",
      "Avg wait time: 3.3880140278064848\n",
      "Avg process time: 0.999732802479613\n",
      "First in first out:\n",
      "Avg wait time: 12.378646950130632\n",
      "Avg process time: 1.006414015478233\n"
     ]
    },
    {
     "data": {
      "text/plain": [
       "(12.378646950130632, 1.006414015478233)"
      ]
     },
     "execution_count": 4,
     "metadata": {},
     "output_type": "execute_result"
    }
   ],
   "source": [
    "INIT_TASKS = 4\n",
    "N_MACHINES = 1\n",
    "MAX_SIM_TIME = 10000\n",
    "\n",
    "MARKOV_TASK_DURATION = 1\n",
    "MARKOV_TASK_ARRIVAL = 0.9\n",
    "shortest_job_first = True\n",
    "time_choice = 'm'\n",
    "\n",
    "init = [INIT_TASKS, N_MACHINES, MARKOV_TASK_DURATION, MARKOV_TASK_ARRIVAL, shortest_job_first, time_choice]\n",
    "\n",
    "print(\"Shortest job first:\")\n",
    "run(init, True)\n",
    "\n",
    "shortest_job_first = False\n",
    "\n",
    "init = [INIT_TASKS, N_MACHINES, MARKOV_TASK_DURATION, MARKOV_TASK_ARRIVAL, shortest_job_first, time_choice]\n",
    "\n",
    "print(\"First in first out:\")\n",
    "run(init, True)"
   ]
  },
  {
   "cell_type": "code",
   "execution_count": 5,
   "metadata": {},
   "outputs": [
    {
     "name": "stdout",
     "output_type": "stream",
     "text": [
      "Shortest job first:\n",
      "Avg wait time: 1.484368161226573\n",
      "Avg process time: 0.9983168589023531\n",
      "First in first out:\n",
      "Avg wait time: 4.299720191826096\n",
      "Avg process time: 0.9996351574812468\n"
     ]
    },
    {
     "data": {
      "text/plain": [
       "(4.299720191826096, 0.9996351574812468)"
      ]
     },
     "execution_count": 5,
     "metadata": {},
     "output_type": "execute_result"
    }
   ],
   "source": [
    "INIT_TASKS = 4\n",
    "N_MACHINES = 2\n",
    "MAX_SIM_TIME = 10000\n",
    "\n",
    "MARKOV_TASK_DURATION = 1\n",
    "MARKOV_TASK_ARRIVAL = 1.8\n",
    "shortest_job_first = True\n",
    "\n",
    "init = [INIT_TASKS, N_MACHINES, MARKOV_TASK_DURATION, MARKOV_TASK_ARRIVAL, shortest_job_first, time_choice]\n",
    "\n",
    "print(\"Shortest job first:\")\n",
    "run(init, True)\n",
    "\n",
    "shortest_job_first = False\n",
    "\n",
    "init = [INIT_TASKS, N_MACHINES, MARKOV_TASK_DURATION, MARKOV_TASK_ARRIVAL, shortest_job_first, time_choice]\n",
    "\n",
    "print(\"First in first out:\")\n",
    "run(init, True)"
   ]
  },
  {
   "cell_type": "code",
   "execution_count": 6,
   "metadata": {},
   "outputs": [
    {
     "name": "stdout",
     "output_type": "stream",
     "text": [
      "Shortest job first:\n",
      "Avg wait time: 4.791936435399111\n",
      "Avg process time: 1.0\n",
      "First in first out:\n",
      "Avg wait time: 4.414458028562566\n",
      "Avg process time: 1.0\n"
     ]
    },
    {
     "data": {
      "text/plain": [
       "(4.414458028562566, 1.0)"
      ]
     },
     "execution_count": 6,
     "metadata": {},
     "output_type": "execute_result"
    }
   ],
   "source": [
    "INIT_TASKS = 4\n",
    "N_MACHINES = 1\n",
    "MAX_SIM_TIME = 100000\n",
    "\n",
    "MARKOV_TASK_DURATION = 1\n",
    "MARKOV_TASK_ARRIVAL = 0.9\n",
    "shortest_job_first = True\n",
    "time_choice = 'd'\n",
    "\n",
    "init = [INIT_TASKS, N_MACHINES, MARKOV_TASK_DURATION, MARKOV_TASK_ARRIVAL, shortest_job_first, time_choice]\n",
    "\n",
    "print(\"Shortest job first:\")\n",
    "run(init, True)\n",
    "\n",
    "shortest_job_first = False\n",
    "\n",
    "init = [INIT_TASKS, N_MACHINES, MARKOV_TASK_DURATION, MARKOV_TASK_ARRIVAL, shortest_job_first, time_choice]\n",
    "\n",
    "print(\"First in first out:\")\n",
    "run(init, True)"
   ]
  },
  {
   "cell_type": "markdown",
   "metadata": {},
   "source": [
    "## Comparison to theory"
   ]
  },
  {
   "cell_type": "code",
   "execution_count": 25,
   "metadata": {},
   "outputs": [
    {
     "name": "stdout",
     "output_type": "stream",
     "text": [
      "1\n",
      "2\n",
      "5\n",
      "10\n",
      "20\n",
      "[[9.87734334615913, 9.7525522626471, 9.643496600760619, 9.263994117448824, 9.72413991322308, 9.86597248706892, 9.365991272650461, 9.065913949752666, 7.963712902629005, 9.156675208421115], [4.085698979385603, 4.414662620228154, 4.415292674091484, 4.152824156503135, 4.157622690583137, 3.9652593449910634, 4.638718836218098, 4.186074182482078, 3.9344366964274227, 4.169169264126931], [1.5730620540506155, 1.5030286297131, 1.4841192565918193, 1.5131847626937553, 1.4764525839924059, 1.5342087766924417, 1.6450164999645978, 1.6243263928344565, 1.5451390359846884, 1.5264747087700234], [0.6657927810874119, 0.6678139280257962, 0.6611281661563772, 0.6452718633456183, 0.6706162081681911, 0.6509280162837966, 0.7067482169080457, 0.6813914466656514, 0.6910980541453653, 0.6715922374006306], [0.2828761043454637, 0.26590488618036673, 0.2778350307662947, 0.28072034613841557, 0.2712376165345898, 0.27383859138622957, 0.2723970601792229, 0.2780432648712529, 0.2773908419681072, 0.2540670749815318]]\n"
     ]
    }
   ],
   "source": [
    "waiting_time_list = []\n",
    "for N_MACHINES in [1, 2, 5, 10, 20]:\n",
    "    print(N_MACHINES)\n",
    "    waiting_time_list.append([])\n",
    "    for _ in range(10):\n",
    "        INIT_TASKS = 4\n",
    "        MAX_SIM_TIME = 100000\n",
    "\n",
    "        MARKOV_TASK_DURATION = 1\n",
    "        MARKOV_TASK_ARRIVAL = 0.9 * N_MACHINES\n",
    "        shortest_job_first = False\n",
    "        time_choice = 'm'\n",
    "\n",
    "        init = [INIT_TASKS, N_MACHINES, MARKOV_TASK_DURATION, MARKOV_TASK_ARRIVAL, shortest_job_first, time_choice]\n",
    "\n",
    "        result = run(init)\n",
    "\n",
    "        waiting_time_list[-1].append(result[0])\n",
    "\n",
    "print(waiting_time_list)"
   ]
  },
  {
   "cell_type": "code",
   "execution_count": 27,
   "metadata": {},
   "outputs": [
    {
     "name": "stdout",
     "output_type": "stream",
     "text": [
      "average: 9.367979206076091\n",
      "standard deviation 0.5455986945623932\n",
      "average: 4.2119759445037115\n",
      "standard deviation 0.20671927502984586\n",
      "average: 1.5425012701287906\n",
      "standard deviation 0.05353474935744028\n",
      "average: 0.6712380918186885\n",
      "standard deviation 0.017289652840303062\n",
      "average: 0.27343108173514746\n",
      "standard deviation 0.007977113892037375\n"
     ]
    }
   ],
   "source": [
    "for result in waiting_time_list:\n",
    "    print(\"average:\",np.mean(result))\n",
    "    print(\"standard deviation\",np.std(result))"
   ]
  },
  {
   "cell_type": "markdown",
   "metadata": {},
   "source": [
    "## Statistical significance"
   ]
  },
  {
   "cell_type": "code",
   "execution_count": 26,
   "metadata": {},
   "outputs": [],
   "source": [
    "def calc_pvalue(data1, data2):\n",
    "    \"\"\"Calculates the pvalue for two data sets. \"\"\"\n",
    "\n",
    "    return scipy.stats.ttest_ind(data1, data2).pvalue\n",
    "\n",
    "def plot_rho_significance(xs, ys, ci):\n",
    "\n",
    "    fig, ax = plt.subplots()\n",
    "    ax.plot(xs,ys)\n",
    "    ax.fill_between(xs, ys - ci, ys + ci, color='b', alpha=.1)\n",
    "    ax.set_xlabel(\"rho\")\n",
    "    ax.set_ylabel(\"# experiments\")\n",
    "\n",
    "    plt.show()\n",
    "\n",
    "def calc_plot_data(rhos, lamda, nruns):\n",
    "\n",
    "    data = []\n",
    "    for _ in range(nruns):\n",
    "\n",
    "        results = calc_rho_significance(rhos, lamda)\n",
    "        data.append(results)\n",
    "\n",
    "    data = np.array(data)\n",
    "    y_averages = np.mean(data, axis=0)\n",
    "    y_std = np.std(data, axis=0)\n",
    "\n",
    "    return y_averages, y_std\n",
    "\n",
    "def calc_rho_significance(rhos, lamda):\n",
    "    \"\"\"\n",
    "    Will look into how many experiments are needed to have significant difference \n",
    "    between multiple configurations. And how this depends on rho\n",
    "    \"\"\"\n",
    "\n",
    "    results = []\n",
    "    for rho in rhos:\n",
    "        results.append(n_experiments(rho, lamda))\n",
    "\n",
    "    return results\n",
    "\n",
    "    print(rhos)\n",
    "    print(results)\n",
    "    \n",
    "    plt.xlabel(\"rho\")\n",
    "    plt.ylabel(\"# experiments\")\n",
    "    plt.plot(rhos, results)\n",
    "    plt.show()\n",
    "\n",
    "def n_experiments(rho, lamda):\n",
    "\n",
    "    p_significance = 0.05\n",
    "    max_counter = 10000\n",
    "\n",
    "    datas = [[], [], []]\n",
    "    counter = 0\n",
    "    \n",
    "    while True:\n",
    "\n",
    "        datas[0] += generate_data(rho, lamda, 1, 1)\n",
    "        datas[1] += generate_data(rho, lamda, 2, 1)\n",
    "        datas[2] += generate_data(rho, lamda, 4, 1)\n",
    "\n",
    "        counter += 1\n",
    "\n",
    "        # If counter is 1 then there is only one data point for each configuration.\n",
    "        # There is no way to perform a ttest with one data point\n",
    "        if counter == 1:\n",
    "            continue\n",
    "\n",
    "        # Calc p value for each combination of the data sets\n",
    "        pvalue01 = calc_pvalue(datas[0], datas[1])\n",
    "        pvalue02 = calc_pvalue(datas[0], datas[2])\n",
    "        pvalue12 = calc_pvalue(datas[1], datas[2])\n",
    "\n",
    "        print(f\"\\r{rho:.2f}, {counter}, {pvalue01}, {pvalue02}, {pvalue12}\", end=\"\")\n",
    "        if pvalue01 < p_significance and pvalue02 < p_significance and pvalue12 < p_significance:\n",
    "            print(\"\")\n",
    "            return counter\n",
    "\n",
    "        if counter >= max_counter:\n",
    "            print(\"WARNING: terminating early\")\n",
    "            return max_counter\n",
    "\n",
    "def generate_data(rho, lamda, n_machines, nruns, shortest_job_first=False, time_choice='m'):\n",
    "\n",
    "    # Calculate the server capacity needed to achieve an average server load of rho\n",
    "    mu = lamda / (n_machines * rho)\n",
    "\n",
    "    data = []\n",
    "    for i in range(nruns):\n",
    "        \n",
    "        # Each machine is initialized with 1 task\n",
    "        # The expectation value for the arrival rate is lamda \n",
    "        # thus the parameter is 1 / lamda.\n",
    "        # The average task duration is 1/mu. Thus the task duration parameter is\n",
    "        # 1/(1/mu) = mu\n",
    "        parameters = [n_machines, n_machines, mu, 1/lamda, shortest_job_first, time_choice]\n",
    "        results = run(parameters)\n",
    "        data.append(results[0])\n",
    "\n",
    "    return data"
   ]
  },
  {
   "cell_type": "code",
   "execution_count": 27,
   "metadata": {},
   "outputs": [
    {
     "name": "stdout",
     "output_type": "stream",
     "text": [
      "0.10, 2, 0.00038849434124938094, 1.0107023682036951e-05, 0.008534638424229808\n",
      "0.18, 2, 0.0014854628326605643, 0.0004522840040934442, 0.00632222302711875\n",
      "0.26, 2, 0.0018940795256696668, 0.0005837808973072371, 0.006452249293570577\n",
      "0.33, 2, 0.009162790716512274, 0.0008772532770616111, 0.014275582335549526\n",
      "0.41, 2, 0.020290174014761204, 0.0071036948035038275, 0.0011387123792111359\n",
      "0.49, 2, 0.001184328140492843, 0.0002946242593095398, 0.0006564255936315285\n",
      "0.57, 2, 0.04439142942652574, 0.001766573429066448, 0.0398065273336044\n",
      "0.64, 2, 0.009183419536608405, 0.005153053500564451, 0.03248967525703165\n",
      "0.72, 3, 0.049366569904231765, 0.004075236948686812, 0.012920799805278523\n",
      "0.80, 14, 0.0011883950055129574, 7.925893757198604e-05, 0.04533322298223219\n",
      "0.10, 2, 0.008857519557690081, 0.006158675608310122, 0.0009543529807286295\n",
      "0.18, 2, 0.006667254196856404, 0.003605539281336174, 0.0016121299778279446\n",
      "0.26, 2, 0.00022897021398058615, 0.0002649155225498172, 0.0015733183778744457\n",
      "0.33, 2, 0.005724376439784921, 0.0015150588469630348, 0.01660798141855112\n",
      "0.41, 2, 0.011004394372607078, 0.0016081152896331148, 0.010265061369695095\n",
      "0.49, 2, 0.02739390898932073, 0.0061873221893823755, 0.01922502795044317\n",
      "0.57, 2, 0.011494233769560202, 0.0016695812423208293, 0.005820371780890715\n",
      "0.64, 2, 0.01120269203155143, 0.006055836842084264, 0.030499978676088273\n",
      "0.72, 4, 0.04681230504842708, 0.0005468415733301081, 0.027397141500493938\n",
      "0.80, 22, 8.816875533801491e-05, 1.003941859005888e-06, 0.03363320578766047\n",
      "0.10, 2, 0.00043386855220986926, 0.00013212179856121332, 0.0079571441337423\n",
      "0.18, 2, 0.0008906340582826718, 8.835157585993177e-06, 0.00540324339959261\n",
      "0.26, 2, 0.008607228932941862, 0.0034617088606210687, 0.0016479984038587105\n",
      "0.33, 2, 0.016654726150454494, 0.004743713934090513, 0.005946123273166555\n",
      "0.41, 2, 0.0406461665994494, 0.0110009788804192, 0.007640663610178689\n",
      "0.49, 2, 0.010767936627053889, 0.0029367498599977113, 0.0028629435420680447\n",
      "0.57, 2, 0.0067006140101132676, 0.004295755043501478, 0.04643895767778355\n",
      "0.64, 3, 0.0043841882992533944, 3.354107079776009e-05, 0.006338686202172748\n",
      "0.72, 5, 0.014166526411535313, 0.001612195841585472, 0.024367617277324522\n",
      "0.80, 10, 0.03716187183180621, 3.2329538724923393e-06, 4.534119376384412e-05\n",
      "0.10, 2, 0.0020656316077130024, 3.5459496654707067e-05, 0.031284736100173814\n",
      "0.18, 2, 0.010993494477615781, 0.0045852285474917865, 0.007091664044139467\n",
      "0.26, 2, 0.012974847069302247, 0.0011162523101697955, 0.029385700484403286\n",
      "0.33, 2, 0.00012825181560826386, 2.107848671699548e-05, 0.00045062991305321645\n",
      "0.41, 2, 0.03454076891900035, 0.0029805603875842973, 0.031545539754089254\n",
      "0.49, 2, 0.0007839737593127085, 0.001401427507348831, 0.005359101505186355\n",
      "0.57, 2, 0.011215858757350485, 0.0024864236875180466, 0.0005713876556813748\n",
      "0.64, 3, 0.0017458992105310997, 0.00020391023794914955, 0.008541703347427277\n",
      "0.72, 3, 0.0368053142242643, 7.32265758971524e-05, 0.0031338116392151264\n",
      "0.80, 4, 0.008018810499103527, 0.000110034145948769, 0.0011528362565230946\n",
      "0.10, 2, 0.0013517473842590425, 0.0004572853382134374, 0.016382481263072034\n",
      "0.18, 2, 0.0005173487480864385, 0.0001732918751373207, 0.0012793055320656638\n",
      "0.26, 2, 0.00042909271986805536, 0.0001070846398149377, 0.0006702731540767515\n",
      "0.33, 2, 0.0008138759575131374, 5.6010414221329596e-06, 0.0022346979404943277\n",
      "0.41, 2, 0.03100410837198656, 0.009601779663900111, 0.0075058681213745655\n",
      "0.49, 2, 0.027212030257922536, 0.00639209291117351, 0.020901870493717847\n",
      "0.57, 3, 0.021198625524897072, 0.0010405216335870457, 0.0024384496653210015\n",
      "0.64, 3, 0.008612285301234538, 0.000512526065186778, 0.003155568297664612\n",
      "0.72, 2, 0.0029243715188165694, 0.00368146110920804, 0.016912825578906786\n",
      "0.80, 8, 0.021262843986973173, 0.0004614700919273679, 0.008063564799942278\n"
     ]
    }
   ],
   "source": [
    "MAX_SIM_TIME = 10000\n",
    "rhos = np.linspace(0.1, 0.8, 10)\n",
    "\n",
    "ys, ci = calc_plot_data(rhos, 1, 5)"
   ]
  },
  {
   "cell_type": "code",
   "execution_count": 28,
   "metadata": {},
   "outputs": [
    {
     "data": {
      "image/png": "[encoded data removed]",
      "text/plain": [
       "<Figure size 432x288 with 1 Axes>"
      ]
     },
     "metadata": {
      "needs_background": "light"
     },
     "output_type": "display_data"
    }
   ],
   "source": [
    "plot_rho_significance(rhos, ys, ci)"
   ]
  },
  {
   "cell_type": "markdown",
   "metadata": {},
   "source": [
    "## Comparisons"
   ]
  },
  {
   "cell_type": "code",
   "execution_count": 29,
   "metadata": {},
   "outputs": [],
   "source": [
    "def plot_boxplot_data(data, labels):\n",
    "\n",
    "    plt.boxplot(data, labels=labels)\n",
    "    plt.ylabel(\"Average waiting time\")\n",
    "    plt.show()\n",
    "\n",
    "def print_all_p_values(data):\n",
    "\n",
    "    for i in range(len(data)):\n",
    "        for j in range(i):\n",
    "\n",
    "            print(f\"p-value of data {i} against {j}: {calc_pvalue(data[i], data[j])}\")"
   ]
  },
  {
   "cell_type": "markdown",
   "metadata": {},
   "source": [
    "### M/M/n comparisons"
   ]
  },
  {
   "cell_type": "code",
   "execution_count": 30,
   "metadata": {},
   "outputs": [],
   "source": [
    "def calculate_compare_mmn_data(rho, lamda, nruns):\n",
    "\n",
    "    data1 = generate_data(rho, lamda, 1, nruns)\n",
    "    data2 = generate_data(rho, lamda, 2, nruns)\n",
    "    data4 = generate_data(rho, lamda, 4, nruns)\n",
    "\n",
    "    return data1, data2, data4"
   ]
  },
  {
   "cell_type": "code",
   "execution_count": 31,
   "metadata": {},
   "outputs": [],
   "source": [
    "MAX_SIM_TIME = 10000\n",
    "compare_mmn_data = calculate_compare_mmn_data(0.7, 1, 20)"
   ]
  },
  {
   "cell_type": "code",
   "execution_count": 32,
   "metadata": {},
   "outputs": [
    {
     "data": {
      "image/png": "[encoded data removed]",
      "text/plain": [
       "<Figure size 432x288 with 1 Axes>"
      ]
     },
     "metadata": {
      "needs_background": "light"
     },
     "output_type": "display_data"
    },
    {
     "name": "stdout",
     "output_type": "stream",
     "text": [
      "p-value of data 1 against 0: 1.45966875718839e-09\n",
      "p-value of data 2 against 0: 4.490864521931244e-21\n",
      "p-value of data 2 against 1: 4.444214431199664e-14\n"
     ]
    }
   ],
   "source": [
    "plot_boxplot_data(compare_mmn_data, [\"1 servers\", \"2 servers\", \"4 servers\"])\n",
    "print_all_p_values(compare_mmn_data)"
   ]
  },
  {
   "cell_type": "markdown",
   "metadata": {},
   "source": [
    "### FIFO vs shortest job"
   ]
  },
  {
   "cell_type": "code",
   "execution_count": 33,
   "metadata": {},
   "outputs": [],
   "source": [
    "def calc_compare_FIFO_vs_shortest_job_data(rho, lamda, nruns):\n",
    "    \n",
    "    data1 = generate_data(rho, lamda, 1, nruns, shortest_job_first=True)\n",
    "    data2 = generate_data(rho, lamda, 1, nruns, shortest_job_first=False)\n",
    "\n",
    "    return data1, data2"
   ]
  },
  {
   "cell_type": "code",
   "execution_count": 35,
   "metadata": {},
   "outputs": [],
   "source": [
    "MAX_SIM_TIME = 10000\n",
    "compare_FIFO_vs_shortest_job_data = calc_compare_FIFO_vs_shortest_job_data(0.7, 1, 20)"
   ]
  },
  {
   "cell_type": "code",
   "execution_count": 34,
   "metadata": {},
   "outputs": [
    {
     "data": {
      "image/png": "[encoded data removed]",
      "text/plain": [
       "<Figure size 432x288 with 1 Axes>"
      ]
     },
     "metadata": {
      "needs_background": "light"
     },
     "output_type": "display_data"
    },
    {
     "name": "stdout",
     "output_type": "stream",
     "text": [
      "p-value of data 1 against 0: 3.561048094723617e-26\n"
     ]
    }
   ],
   "source": [
    "plot_boxplot_data(compare_FIFO_vs_shortest_job_data, [\"FIFO\", \"shortest job\"])\n",
    "print_all_p_values(compare_FIFO_vs_shortest_job_data)"
   ]
  },
  {
   "cell_type": "code",
   "execution_count": null,
   "metadata": {},
   "outputs": [],
   "source": []
  }
 ],
 "metadata": {
  "interpreter": {
   "hash": "916dbcbb3f70747c44a77c7bcd40155683ae19c65e1c03b4aa3499c5328201f1"
  },
  "kernelspec": {
   "display_name": "Python 3 (ipykernel)",
   "language": "python",
   "name": "python3"
  },
  "language_info": {
   "codemirror_mode": {
    "name": "ipython",
    "version": 3
   },
   "file_extension": ".py",
   "mimetype": "text/x-python",
   "name": "python",
   "nbconvert_exporter": "python",
   "pygments_lexer": "ipython3",
   "version": "3.8.10"
  },
  "orig_nbformat": 4
 },
 "nbformat": 4,
 "nbformat_minor": 2
}
